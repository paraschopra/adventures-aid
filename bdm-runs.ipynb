{
 "cells": [
  {
   "cell_type": "code",
   "execution_count": 176,
   "metadata": {},
   "outputs": [],
   "source": [
    "from collections import Counter\n",
    "import numpy as np\n",
    "import sys\n",
    "import json\n",
    "import ast\n",
    "import random"
   ]
  },
  {
   "cell_type": "code",
   "execution_count": null,
   "metadata": {},
   "outputs": [],
   "source": []
  },
  {
   "cell_type": "code",
   "execution_count": null,
   "metadata": {},
   "outputs": [],
   "source": []
  },
  {
   "cell_type": "code",
   "execution_count": 83,
   "metadata": {},
   "outputs": [],
   "source": [
    "# The JSON holds tuples\n",
    "def build_lookup_table(filename):\n",
    "    with open(filename, 'r') as fp:\n",
    "        lookup = json.load(fp)\n",
    "\n",
    "    return lookup"
   ]
  },
  {
   "cell_type": "code",
   "execution_count": 93,
   "metadata": {},
   "outputs": [],
   "source": [
    "def array_to_tuple(matrix):\n",
    "    try:\n",
    "        return tuple(array_to_tuple(i) for i in matrix)\n",
    "    except TypeError:\n",
    "        return tuple(matrix)"
   ]
  },
  {
   "cell_type": "code",
   "execution_count": null,
   "metadata": {},
   "outputs": [],
   "source": []
  },
  {
   "cell_type": "code",
   "execution_count": 123,
   "metadata": {},
   "outputs": [],
   "source": [
    "def bdm_1d(string, lookup, d=10, verbose=False):\n",
    "    \n",
    "    if(len(string)<d):\n",
    "        return lookup[string]\n",
    "    else:\n",
    "        iterations = int(len(string)/d)\n",
    "        \n",
    "        \n",
    "        strings = []\n",
    "        for i in range(iterations):\n",
    "            substring = string[(i)*d:(i+1)*d]\n",
    "            #substring_tup = array_to_tuple([int(s) for s in substring])\n",
    "            \n",
    "            substring_tup = \"(\"+', '.join(list(substring))+\")\"\n",
    "            \n",
    "            strings.append(substring_tup)\n",
    "            \n",
    "            if(verbose):\n",
    "                print(\"Substring: \", substring_tup)\n",
    "                \n",
    "        # ignore boundary condition\n",
    "        # substring = string[(i+1)*d-1:len(string)-1]\n",
    "        \n",
    "        #if(substring):\n",
    "        #    substring_tup = array_to_tuple([int(s) for s in substring])\n",
    "        #    strings.append(substring_tup)\n",
    "        \n",
    "        #if(verbose):\n",
    "        #        print(\"Substring: \", substring_tup)\n",
    "            \n",
    "    counts = Counter(strings)\n",
    "    bdm_value = sum(lookup[string] + np.log2(n) for string, n in counts.items())\n",
    "    \n",
    "    return bdm_value"
   ]
  },
  {
   "cell_type": "code",
   "execution_count": 229,
   "metadata": {},
   "outputs": [],
   "source": [
    "lookup = build_lookup_table('K-10.json')"
   ]
  },
  {
   "cell_type": "code",
   "execution_count": 302,
   "metadata": {},
   "outputs": [],
   "source": [
    "def convert_num_to_binary(num):\n",
    "    #works only for positive numbers\n",
    "    return str(bin(num))[2:]"
   ]
  },
  {
   "cell_type": "code",
   "execution_count": 303,
   "metadata": {},
   "outputs": [
    {
     "data": {
      "text/plain": [
       "'110010'"
      ]
     },
     "execution_count": 303,
     "metadata": {},
     "output_type": "execute_result"
    }
   ],
   "source": [
    "convert_num_to_binary(50)"
   ]
  },
  {
   "cell_type": "code",
   "execution_count": 324,
   "metadata": {},
   "outputs": [],
   "source": [
    "#block to generate fibonacci sequence\n",
    "\n",
    "base2_st = ''\n",
    "base10_st = ''\n",
    "a=0\n",
    "b=1\n",
    "for i in range(30):\n",
    "    old_a = a\n",
    "    num = a+b\n",
    "    base10_st += str(num)\n",
    "    base2_st += str(convert_num_to_binary(num))\n",
    "    a=b\n",
    "    b=old_a+b\n",
    "    \n",
    "    "
   ]
  },
  {
   "cell_type": "code",
   "execution_count": 320,
   "metadata": {},
   "outputs": [],
   "source": [
    "#block to generate trivial case of 00000s\n",
    "\n",
    "base2_st = ''\n",
    "base10_st = ''\n",
    "for i in range(100):\n",
    "    num = 0\n",
    "    base10_st += str(num)\n",
    "    base2_st += str(convert_num_to_binary(num))"
   ]
  },
  {
   "cell_type": "code",
   "execution_count": 318,
   "metadata": {},
   "outputs": [],
   "source": [
    "#function to return random sequence of numbers\n",
    "\n",
    "def return_random_sequence(length):\n",
    "\n",
    "    base2_randst = ''\n",
    "    base10_randst = ''\n",
    "    for j in range(length):\n",
    "        num = random.randint(0,9)\n",
    "        base10_randst += str(num)\n",
    "    \n",
    "        base2_randst += str(convert_num_to_binary(num))\n",
    "        \n",
    "    return base2_randst, base10_randst"
   ]
  },
  {
   "cell_type": "code",
   "execution_count": 325,
   "metadata": {},
   "outputs": [
    {
     "name": "stdout",
     "output_type": "stream",
     "text": [
      "123581321345589144233377610987159725844181676510946177112865746368750251213931964183178115142298320401346269 1101110110001101101011000101101111011001100100001110100110111100110011000101111011011110001111011010000110001000001010101110100110110110101011000010100010100101111110111111110001101101010010000010010010100010001111011010001100011011111111010000101001101100101110011111110110001011010111001011001000101000101001000101011011101 843.53 101\n",
      "Random (average of 100 runs of same length - BDM:  734.75  GZIP:  89.45\n"
     ]
    }
   ],
   "source": [
    "print(base10_st, base2_st, round(bdm_1d(base2_st, lookup, d=10),2), len(gzip_str(base2_st)))\n",
    "\n",
    "# do 100 runs, and take average\n",
    "\n",
    "bdm_total = 0.0\n",
    "gzip_total = 0\n",
    "for i in range(100):\n",
    "\n",
    "    base2_randst, base10_randst = return_random_sequence(len(base10_st))\n",
    "    bdm_total += bdm_1d(base2_randst, lookup, d=10)\n",
    "    gzip_total += len(gzip_str(base2_randst))\n",
    "\n",
    "print(\"Random (average of 100 runs of same length - BDM: \", round(bdm_total/100, 2), \" GZIP: \", round(gzip_total/100, 2))\n"
   ]
  },
  {
   "cell_type": "code",
   "execution_count": 260,
   "metadata": {},
   "outputs": [],
   "source": [
    "import codecs"
   ]
  },
  {
   "cell_type": "code",
   "execution_count": 263,
   "metadata": {},
   "outputs": [],
   "source": [
    "import gzip\n",
    "import io\n",
    "\n",
    "def gzip_str(string_):\n",
    "    out = io.BytesIO()\n",
    "\n",
    "    with gzip.GzipFile(fileobj=out, mode='w') as fo:\n",
    "        fo.write(string_.encode())\n",
    "\n",
    "    bytes_obj = out.getvalue()\n",
    "    return bytes_obj\n",
    "\n",
    "def gunzip_bytes_obj(bytes_obj):\n",
    "    in_ = io.BytesIO()\n",
    "    in_.write(bytes_obj)\n",
    "    in_.seek(0)\n",
    "    with gzip.GzipFile(fileobj=in_, mode='rb') as fo:\n",
    "        gunzipped_bytes_obj = fo.read()\n",
    "\n",
    "    return gunzipped_bytes_obj.decode()\n",
    "    \n",
    "    \n",
    "string_ = 'hello there!'\n",
    "\n",
    "gzipped_bytes = gzip_str(string_)\n",
    "\n",
    "original_string = gunzip_bytes_obj(gzipped_bytes)\n",
    "\n",
    "assert string_ == original_string"
   ]
  }
 ],
 "metadata": {
  "kernelspec": {
   "display_name": "Python 3",
   "language": "python",
   "name": "python3"
  },
  "language_info": {
   "codemirror_mode": {
    "name": "ipython",
    "version": 3
   },
   "file_extension": ".py",
   "mimetype": "text/x-python",
   "name": "python",
   "nbconvert_exporter": "python",
   "pygments_lexer": "ipython3",
   "version": "3.7.1"
  }
 },
 "nbformat": 4,
 "nbformat_minor": 2
}
